{
 "cells": [
  {
   "cell_type": "code",
   "execution_count": 1,
   "metadata": {},
   "outputs": [],
   "source": [
    "import numpy as np \n",
    "import matplotlib.pyplot as plt \n",
    "import csv \n",
    "import time \n",
    "\n",
    "# set plot options \n",
    "plt.rcParams['figure.figsize'] = (15,15) # Pick something here, bigger than (6.0,4.0)\n",
    "plt.rcParams['font.size'] = 25           # pick something bigger than 10 \n",
    "plt.rcParams['lines.markersize'] = 7     # bigger markers \n",
    "\n",
    "def load_data( index ):\n",
    "    filename = \"output\" + \"%08u\" % index + '.csv'\n",
    "    print( \"Loading data from \" + filename + \" ...\")\n",
    "    \n",
    "    file = open(filename)\n",
    "    data = np.double( np.loadtxt(file, delimiter=\",\") )\n",
    "    \n",
    "    num_cells,num_cols = data.shape \n",
    "    positions = np.double( data[:,0:2])  \n",
    "    radii =  np.double( data[:,2])  \n",
    "    velocities = np.double( data[:,3:5])  \n",
    "    birth_rates = np.double( data[:,5])  \n",
    "    death_rates = np.double( data[:,6])  \n",
    "    \n",
    "    return positions,radii,velocities,birth_rates,death_rates"
   ]
  },
  {
   "cell_type": "code",
   "execution_count": 46,
   "metadata": {},
   "outputs": [],
   "source": [
    "def plot_cells( positions, radii, velocities ):\n",
    "    plt.scatter( positions[:,0] , positions[:,1] ,s=radii*10 )\n",
    "    plt.quiver( np.transpose(positions[:,0]) , np.transpose(positions[:,1]), \n",
    "        np.transpose(velocities[:,0]/10) , np.transpose(velocities[:,1]/10) ,\n",
    "        scale=.1, headwidth=4,headlength=3,headaxislength=2,width=.003)\n",
    "    scale = 75\n",
    "    m,n = positions.shape \n",
    "    center = [ np.mean( positions[:,0]) , np.mean( positions[:,1]) ]\n",
    "    width = 150; \n",
    "    axes = [center[0]-0.5*width,center[0]+0.5*width, \n",
    "        center[1]-0.5*width,center[1]+0.5*width]\n",
    "    plt.axis(axes)\n",
    "    ax = plt.gca()\n",
    "    ax.set_aspect('equal')"
   ]
  },
  {
   "cell_type": "code",
   "execution_count": 47,
   "metadata": {},
   "outputs": [
    {
     "name": "stdout",
     "output_type": "stream",
     "text": [
      "Loading data from output00000000.csv ...\n",
      "Loading data from output00000012.csv ...\n",
      "Loading data from output00000024.csv ...\n",
      "Loading data from output00000036.csv ...\n",
      "Loading data from output00000048.csv ...\n",
      "Loading data from output00000060.csv ...\n",
      "Loading data from output00000072.csv ...\n",
      "Loading data from output00000084.csv ...\n",
      "Loading data from output00000096.csv ...\n",
      "Loading data from output00000108.csv ...\n",
      "Loading data from output00000120.csv ...\n",
      "Loading data from output00000132.csv ...\n",
      "Loading data from output00000144.csv ...\n",
      "Loading data from output00000156.csv ...\n",
      "Loading data from output00000168.csv ...\n",
      "Loading data from output00000180.csv ...\n",
      "Loading data from output00000192.csv ...\n",
      "Loading data from output00000204.csv ...\n",
      "Loading data from output00000216.csv ...\n",
      "Loading data from output00000228.csv ...\n",
      "Loading data from output00000240.csv ...\n"
     ]
    }
   ],
   "source": [
    "%matplotlib qt \n",
    "\n",
    "plt.figure(1)\n",
    "plt.pause(5)\n",
    "\n",
    "ax = plt.gca()\n",
    "\n",
    "n = 0\n",
    "while( n < 241 ):\n",
    "    plt.figure(1)\n",
    "    plt.clf()\n",
    "    positions,radii,velocities,birth_rates,death_rates = load_data( n )\n",
    "    plot_cells( positions, radii, velocities )\n",
    "    plt.title( n ); \n",
    "    plt.pause(0.2)\n",
    "    n += 12 \n"
   ]
  },
  {
   "cell_type": "code",
   "execution_count": 40,
   "metadata": {},
   "outputs": [],
   "source": [
    "ax = plt.gca()"
   ]
  },
  {
   "cell_type": "code",
   "execution_count": 41,
   "metadata": {},
   "outputs": [],
   "source": [
    "ax.set_aspect( 'equal')"
   ]
  },
  {
   "cell_type": "code",
   "execution_count": 42,
   "metadata": {},
   "outputs": [],
   "source": [
    "plt.figure(1) \n",
    "ax = plt.gca()\n",
    "ax.set_aspect( 'equal')"
   ]
  },
  {
   "cell_type": "code",
   "execution_count": null,
   "metadata": {},
   "outputs": [],
   "source": []
  }
 ],
 "metadata": {
  "kernelspec": {
   "display_name": "Python 3",
   "language": "python",
   "name": "python3"
  },
  "language_info": {
   "codemirror_mode": {
    "name": "ipython",
    "version": 3
   },
   "file_extension": ".py",
   "mimetype": "text/x-python",
   "name": "python",
   "nbconvert_exporter": "python",
   "pygments_lexer": "ipython3",
   "version": "3.7.6"
  }
 },
 "nbformat": 4,
 "nbformat_minor": 4
}
