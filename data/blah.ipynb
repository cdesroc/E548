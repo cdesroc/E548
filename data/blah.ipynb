{
 "cells": [
  {
   "cell_type": "code",
   "execution_count": 1,
   "metadata": {},
   "outputs": [],
   "source": [
    "import numpy as np \n",
    "import matplotlib.pyplot as plt \n",
    "import csv \n",
    "import time \n",
    "\n",
    "# set plot options \n",
    "plt.rcParams['figure.figsize'] = (15,15) # Pick something here, bigger than (6.0,4.0)\n",
    "plt.rcParams['font.size'] = 25           # pick something bigger than 10 \n",
    "plt.rcParams['lines.markersize'] = 7     # bigger markers \n",
    "\n",
    "def load_data( index ):\n",
    "    filename = \"output\" + \"%08u\" % index + '.csv'\n",
    "    print( \"Loading data from \" + filename + \" ...\")\n",
    "    \n",
    "    file = open(filename)\n",
    "    data = np.double( np.loadtxt(file, delimiter=\",\") )\n",
    "    \n",
    "    num_cells,num_cols = data.shape \n",
    "    positions = np.double( data[:,0:2])  \n",
    "    radii =  np.double( data[:,2])  \n",
    "    velocities = np.double( data[:,3:5])  \n",
    "    birth_rates = np.double( data[:,5])  \n",
    "    death_rates = np.double( data[:,6])  \n",
    "    \n",
    "    return positions,radii,velocities,birth_rates,death_rates"
   ]
  },
  {
   "cell_type": "code",
   "execution_count": 16,
   "metadata": {},
   "outputs": [],
   "source": [
    "def plot_cells( positions, radii, velocities ):\n",
    "    plt.scatter( positions[:,0] , positions[:,1] , 20*radii )\n",
    "    plt.quiver( np.transpose(positions[:,0]) , np.transpose(positions[:,1]), \n",
    "        np.transpose(velocities[:,0]/10) , np.transpose(velocities[:,1]/10) ,\n",
    "        scale=.1, headwidth=4,headlength=3,headaxislength=2,width=.003)\n",
    "    scale = 75\n",
    "    axes = [-scale,scale,-scale,scale]\n",
    "    plt.axis(axes)\n"
   ]
  },
  {
   "cell_type": "code",
   "execution_count": 15,
   "metadata": {},
   "outputs": [
    {
     "name": "stdout",
     "output_type": "stream",
     "text": [
      "Loading data from output00000000.csv ...\n",
      "Loading data from output00000040.csv ...\n",
      "Loading data from output00000080.csv ...\n",
      "Loading data from output00000120.csv ...\n",
      "Loading data from output00000160.csv ...\n",
      "Loading data from output00000200.csv ...\n",
      "Loading data from output00000240.csv ...\n"
     ]
    }
   ],
   "source": [
    "plt.figure(1); \n",
    "plt.clf();\n",
    "\n",
    "n=0\n",
    "while( n < 241 ):\n",
    "    positions,radii,velocities,birth_rates,death_rates = load_data( n )\n",
    "    plt.figure(1)\n",
    "    plt.clf() \n",
    "    plot_cells( positions, 10* radii, velocities )\n",
    "    plt.show()\n",
    "    plt.title( n )\n",
    "    plt.show()\n",
    "    time.sleep(1)  \n",
    "    plt.show()\n",
    "    n = n+40 \n",
    "    \n"
   ]
  },
  {
   "cell_type": "code",
   "execution_count": 179,
   "metadata": {},
   "outputs": [],
   "source": [
    "time.sleep(.1)"
   ]
  },
  {
   "cell_type": "code",
   "execution_count": 4,
   "metadata": {},
   "outputs": [],
   "source": [
    "%matplotlib qt\n"
   ]
  },
  {
   "cell_type": "code",
   "execution_count": 17,
   "metadata": {},
   "outputs": [
    {
     "ename": "ModuleNotFoundError",
     "evalue": "No module named 'system'",
     "output_type": "error",
     "traceback": [
      "\u001b[1;31m---------------------------------------------------------------------------\u001b[0m",
      "\u001b[1;31mModuleNotFoundError\u001b[0m                       Traceback (most recent call last)",
      "\u001b[1;32m<ipython-input-17-01fcfd42082b>\u001b[0m in \u001b[0;36m<module>\u001b[1;34m\u001b[0m\n\u001b[1;32m----> 1\u001b[1;33m \u001b[1;32mimport\u001b[0m \u001b[0msystem\u001b[0m\u001b[1;33m\u001b[0m\u001b[1;33m\u001b[0m\u001b[0m\n\u001b[0m",
      "\u001b[1;31mModuleNotFoundError\u001b[0m: No module named 'system'"
     ]
    }
   ],
   "source": [
    "import system "
   ]
  },
  {
   "cell_type": "code",
   "execution_count": 18,
   "metadata": {},
   "outputs": [],
   "source": [
    "import os \n"
   ]
  },
  {
   "cell_type": "code",
   "execution_count": 19,
   "metadata": {},
   "outputs": [
    {
     "ename": "AttributeError",
     "evalue": "module 'os' has no attribute 'pause'",
     "output_type": "error",
     "traceback": [
      "\u001b[1;31m---------------------------------------------------------------------------\u001b[0m",
      "\u001b[1;31mAttributeError\u001b[0m                            Traceback (most recent call last)",
      "\u001b[1;32m<ipython-input-19-009465df9690>\u001b[0m in \u001b[0;36m<module>\u001b[1;34m\u001b[0m\n\u001b[1;32m----> 1\u001b[1;33m \u001b[0mos\u001b[0m\u001b[1;33m.\u001b[0m\u001b[0mpause\u001b[0m\u001b[1;33m(\u001b[0m\u001b[1;36m1\u001b[0m\u001b[1;33m)\u001b[0m\u001b[1;33m\u001b[0m\u001b[1;33m\u001b[0m\u001b[0m\n\u001b[0m",
      "\u001b[1;31mAttributeError\u001b[0m: module 'os' has no attribute 'pause'"
     ]
    }
   ],
   "source": [
    "os.pause(1)"
   ]
  },
  {
   "cell_type": "code",
   "execution_count": 20,
   "metadata": {},
   "outputs": [
    {
     "ename": "AttributeError",
     "evalue": "module 'os' has no attribute 'sleep'",
     "output_type": "error",
     "traceback": [
      "\u001b[1;31m---------------------------------------------------------------------------\u001b[0m",
      "\u001b[1;31mAttributeError\u001b[0m                            Traceback (most recent call last)",
      "\u001b[1;32m<ipython-input-20-06ba444d2e17>\u001b[0m in \u001b[0;36m<module>\u001b[1;34m\u001b[0m\n\u001b[1;32m----> 1\u001b[1;33m \u001b[0mos\u001b[0m\u001b[1;33m.\u001b[0m\u001b[0msleep\u001b[0m\u001b[1;33m(\u001b[0m\u001b[1;36m1\u001b[0m\u001b[1;33m)\u001b[0m\u001b[1;33m\u001b[0m\u001b[1;33m\u001b[0m\u001b[0m\n\u001b[0m",
      "\u001b[1;31mAttributeError\u001b[0m: module 'os' has no attribute 'sleep'"
     ]
    }
   ],
   "source": [
    "os.sleep(1)"
   ]
  },
  {
   "cell_type": "code",
   "execution_count": null,
   "metadata": {},
   "outputs": [],
   "source": [
    "os."
   ]
  }
 ],
 "metadata": {
  "kernelspec": {
   "display_name": "Python 3",
   "language": "python",
   "name": "python3"
  },
  "language_info": {
   "codemirror_mode": {
    "name": "ipython",
    "version": 3
   },
   "file_extension": ".py",
   "mimetype": "text/x-python",
   "name": "python",
   "nbconvert_exporter": "python",
   "pygments_lexer": "ipython3",
   "version": "3.7.6"
  }
 },
 "nbformat": 4,
 "nbformat_minor": 4
}
