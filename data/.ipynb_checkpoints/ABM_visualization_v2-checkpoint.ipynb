{
 "cells": [
  {
   "cell_type": "code",
   "execution_count": 1,
   "metadata": {},
   "outputs": [],
   "source": [
    "import numpy as np \n",
    "import matplotlib.pyplot as plt \n",
    "\n",
    "# set plot options \n",
    "plt.rcParams['figure.figsize'] = (15,15) # Pick something here, bigger than (6.0,4.0)\n",
    "plt.rcParams['font.size'] = 25           # pick something bigger than 10 \n",
    "plt.rcParams['lines.markersize'] = 7     # bigger markers \n",
    "\n",
    "def load_data( index ):\n",
    "    filename = \"output\" + \"%08u\" % index + \".csv\"\n",
    "    print( \"Loading data from \" + filename + \" ...\")\n",
    "\n",
    "    file = open(filename, \"r\")\n",
    "\n",
    "    # number of cells \n",
    "    line = file.readline(); \n",
    "    data = line.split(); \n",
    "    number_of_cells = np.int( data[0] ); \n",
    "\n",
    "    # allocate cell data \n",
    "    positions = np.zeros( (number_of_cells,2) )\n",
    "    radii =  np.zeros( (number_of_cells,1) )\n",
    "    velocities = np.zeros( (number_of_cells,2) ) \n",
    "    birth_rates = np.zeros( (number_of_cells,1) )\n",
    "    death_rates = np.zeros( (number_of_cells,1) )\n",
    "    mechanics_strengths = np.zeros( (number_of_cells,1) )\n",
    "    \n",
    "    # read cell data \n",
    "    for n in range(number_of_cells):\n",
    "        line = file.readline(); # read line\n",
    "        data = line.split(','); # turn into array of strings \n",
    "        positions[n,:] = np.double( data[0:2] );\n",
    "        radii[n] =  np.double( data[2])  \n",
    "        velocities[n,:] = np.double( data[3:5])  \n",
    "        birth_rates[n] = np.double( data[5])  \n",
    "        death_rates[n] = np.double( data[6])\n",
    "        mechanics_strengths[n] = np.double( data[7])  \n",
    "        \n",
    "    # read X coordinates \n",
    "    line = file.readline(); \n",
    "    data = line.split(','); \n",
    "    X = np.double( data )\n",
    "    m = X.shape[0]\n",
    "    \n",
    "    # read Y coordinates \n",
    "    line = file.readline(); \n",
    "    data = line.split(','); \n",
    "    Y = np.double( data )\n",
    "    n = Y.shape[0] \n",
    "    \n",
    "    # allocate substrate memory\n",
    "    substrate = np.zeros( (m,n))\n",
    "    line = file.readline(); \n",
    "    data = line.split(',')\n",
    "    data = np.double( data )\n",
    "    # copy data into array \n",
    "    for j in range(n):\n",
    "        for i in range(m):\n",
    "            substrate[i,j] = data[ j*m + i ]\n",
    "    file.close()\n",
    "    return X,Y,substrate,positions,radii,velocities,birth_rates,death_rates,mechanics_strengths"
   ]
  },
  {
   "cell_type": "code",
   "execution_count": 21,
   "metadata": {},
   "outputs": [
    {
     "name": "stdout",
     "output_type": "stream",
     "text": [
      "Loading data from output00000000.csv ...\n"
     ]
    }
   ],
   "source": [
    "X,Y,substrate,positions,radii,velocities,birth_rates,death_rates,mechanics_strengths = load_data( 0)"
   ]
  },
  {
   "cell_type": "code",
   "execution_count": 29,
   "metadata": {},
   "outputs": [],
   "source": [
    "def plot_substrate( X , Y , substrate ):\n",
    "    plt.contourf(X,Y,np.transpose(substrate) , 21 ); \n",
    "    plt.xlabel('x')\n",
    "    plt.ylabel('y')\n",
    "    plt.colorbar()\n",
    "    plt.axis('image')\n",
    "    return;\n",
    "\n",
    "def plot_cells( positions, radii, velocities , X='none' , Y='none'):\n",
    "    plt.scatter( positions[:,0] , positions[:,1] ,s=radii*10 , c='r' , alpha=0.5 , \n",
    "               edgecolor='k')\n",
    "    plt.quiver( np.transpose(positions[:,0]) , np.transpose(positions[:,1]), \n",
    "        np.transpose(velocities[:,0]) , np.transpose(velocities[:,1]) ,\n",
    "        scale=1, headwidth=4,headlength=3,headaxislength=2,width=.003)\n",
    "    if( X == 'none' or Y =='none'):       \n",
    "        scale = 75\n",
    "        m,n = positions.shape \n",
    "        center = [ np.mean( positions[:,0]) , np.mean( positions[:,1]) ]\n",
    "        width = 150; \n",
    "        axes = [center[0]-0.5*width,center[0]+0.5*width, \n",
    "            center[1]-0.5*width,center[1]+0.5*width]\n",
    "        plt.axis(axes)\n",
    "    else:\n",
    "        m = X.shape[0]\n",
    "        n = Y.shape[0]\n",
    "        bounds = [ X[0] , X[m-1] , Y[0] , Y[n-1] ];\n",
    "        plt.axis( bounds )\n",
    "    ax = plt.gca()\n",
    "    ax.set_aspect('equal')"
   ]
  },
  {
   "cell_type": "code",
   "execution_count": 30,
   "metadata": {},
   "outputs": [],
   "source": [
    "def animate( interval , last_index ):\n",
    "    %matplotlib qt \n",
    "\n",
    "    plt.figure(1)\n",
    "    plt.pause(5)\n",
    "\n",
    "    n = 0\n",
    "    while( n < last_index+1 ):\n",
    "        plt.figure(1)\n",
    "        plt.clf()\n",
    "        X,Y,substrate,positions,radii,velocities,birth_rates,death_rates,mechanics_strengths=load_data(n)\n",
    "        plot_substrate( X,Y, substrate)\n",
    "        plot_cells( positions, radii, velocities, X,Y )\n",
    "        plt.title( n ); \n",
    "        plt.pause(0.2)\n",
    "        n += interval "
   ]
  },
  {
   "cell_type": "code",
   "execution_count": 31,
   "metadata": {},
   "outputs": [
    {
     "name": "stderr",
     "output_type": "stream",
     "text": [
      "C:\\Users\\Paul\\anaconda3\\lib\\site-packages\\ipykernel_launcher.py:15: FutureWarning: elementwise comparison failed; returning scalar instead, but in the future will perform elementwise comparison\n",
      "  from ipykernel import kernelapp as app\n"
     ]
    }
   ],
   "source": [
    "plot_substrate( X,Y, substrate )\n",
    "plot_cells( positions, radii , velocities, X,Y )\n"
   ]
  },
  {
   "cell_type": "code",
   "execution_count": 32,
   "metadata": {},
   "outputs": [
    {
     "name": "stdout",
     "output_type": "stream",
     "text": [
      "Loading data from output00000000.csv ...\n"
     ]
    },
    {
     "name": "stderr",
     "output_type": "stream",
     "text": [
      "C:\\Users\\Paul\\anaconda3\\lib\\site-packages\\ipykernel_launcher.py:15: FutureWarning: elementwise comparison failed; returning scalar instead, but in the future will perform elementwise comparison\n",
      "  from ipykernel import kernelapp as app\n"
     ]
    },
    {
     "name": "stdout",
     "output_type": "stream",
     "text": [
      "Loading data from output00000010.csv ...\n",
      "Loading data from output00000020.csv ...\n",
      "Loading data from output00000030.csv ...\n",
      "Loading data from output00000040.csv ...\n",
      "Loading data from output00000050.csv ...\n",
      "Loading data from output00000060.csv ...\n",
      "Loading data from output00000070.csv ...\n",
      "Loading data from output00000080.csv ...\n",
      "Loading data from output00000090.csv ...\n",
      "Loading data from output00000100.csv ...\n",
      "Loading data from output00000110.csv ...\n",
      "Loading data from output00000120.csv ...\n",
      "Loading data from output00000130.csv ...\n",
      "Loading data from output00000140.csv ...\n",
      "Loading data from output00000150.csv ...\n",
      "Loading data from output00000160.csv ...\n",
      "Loading data from output00000170.csv ...\n",
      "Loading data from output00000180.csv ...\n",
      "Loading data from output00000190.csv ...\n",
      "Loading data from output00000200.csv ...\n",
      "Loading data from output00000210.csv ...\n",
      "Loading data from output00000220.csv ...\n",
      "Loading data from output00000230.csv ...\n",
      "Loading data from output00000240.csv ...\n"
     ]
    }
   ],
   "source": [
    "animate( 10 , 240 )"
   ]
  },
  {
   "cell_type": "code",
   "execution_count": 12,
   "metadata": {},
   "outputs": [
    {
     "data": {
      "text/plain": [
       "array([-500., -480., -460., -440., -420., -400., -380., -360., -340.,\n",
       "       -320., -300., -280., -260., -240., -220., -200., -180., -160.,\n",
       "       -140., -120., -100.,  -80.,  -60.,  -40.,  -20.,    0.,   20.,\n",
       "         40.,   60.,   80.,  100.,  120.,  140.,  160.,  180.,  200.,\n",
       "        220.,  240.,  260.,  280.,  300.,  320.,  340.,  360.,  380.,\n",
       "        400.,  420.,  440.,  460.,  480.,  500.])"
      ]
     },
     "execution_count": 12,
     "metadata": {},
     "output_type": "execute_result"
    }
   ],
   "source": [
    "X"
   ]
  },
  {
   "cell_type": "code",
   "execution_count": null,
   "metadata": {},
   "outputs": [],
   "source": [
    "X,"
   ]
  }
 ],
 "metadata": {
  "kernelspec": {
   "display_name": "Python 3",
   "language": "python",
   "name": "python3"
  },
  "language_info": {
   "codemirror_mode": {
    "name": "ipython",
    "version": 3
   },
   "file_extension": ".py",
   "mimetype": "text/x-python",
   "name": "python",
   "nbconvert_exporter": "python",
   "pygments_lexer": "ipython3",
   "version": "3.7.6"
  }
 },
 "nbformat": 4,
 "nbformat_minor": 4
}
